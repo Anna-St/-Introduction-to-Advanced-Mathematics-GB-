{
 "cells": [
  {
   "cell_type": "markdown",
   "metadata": {},
   "source": [
    "### 1\n",
    "Напишите код, моделирующий выпадение поля на рулетке (с учетом поля зеро)"
   ]
  },
  {
   "cell_type": "code",
   "execution_count": 1,
   "metadata": {},
   "outputs": [],
   "source": [
    "%matplotlib inline\n",
    "import numpy as np"
   ]
  },
  {
   "cell_type": "code",
   "execution_count": 2,
   "metadata": {},
   "outputs": [
    {
     "name": "stdout",
     "output_type": "stream",
     "text": [
      "\n"
     ]
    },
    {
     "name": "stderr",
     "output_type": "stream",
     "text": [
      "C:\\ProgramData\\Anaconda3\\lib\\site-packages\\ipykernel_launcher.py:3: DeprecationWarning: This function is deprecated. Please call randint(0, 36 + 1) instead\n",
      "  This is separate from the ipykernel package so we can avoid doing imports until\n"
     ]
    },
    {
     "name": "stdout",
     "output_type": "stream",
     "text": [
      "Выпало поле: 7\n",
      "\n",
      "Выпало поле: 13\n",
      "\n",
      "Выпало поле: 23\n",
      "\n",
      "Выпало поле: 17\n",
      "\n",
      "Выпало поле: 18\n",
      "\n",
      "Выпало поле: 9\n",
      "\n",
      "Выпало поле: 21\n",
      "\n",
      "Выпало поле: 25\n",
      "\n",
      "Выпало поле: 8\n",
      "\n",
      "Выпало поле: 11\n",
      "\n",
      "Выпало поле: 18\n"
     ]
    }
   ],
   "source": [
    "for i in range(0, 11):\n",
    "    a = input()\n",
    "    x = np.random.random_integers(0,36)\n",
    "    print(f'Выпало поле: {x}')"
   ]
  },
  {
   "cell_type": "markdown",
   "metadata": {},
   "source": [
    "### 2 \n",
    "1) Напишите код, проверяющий любую из теорем сложения или умножения вероятности на примере подбрасывания монетки.<p> \n",
    "2) Сгенерируйте десять выборок случайных чисел х0, …, х9.\n",
    "и постройте гистограмму распределения случайной суммы х0+х1+ …+ х9."
   ]
  },
  {
   "cell_type": "code",
   "execution_count": 3,
   "metadata": {},
   "outputs": [
    {
     "name": "stdout",
     "output_type": "stream",
     "text": [
      "0.49986 0.50014\n",
      "1.0\n"
     ]
    }
   ],
   "source": [
    "#Сумма вероятностей всех событий, образующих полную группу, равна единице.\n",
    "\"\"\"В подбрасывании монетки полную группу составляют два возможных исхода: \"орел\", \"решка\".\n",
    "при большом числе попыток, \n",
    "относительная частота выпадения \"орла\" = относительной частоте выпадения \"решки\" = 0,5\n",
    "стремиться к вероятности. Т.о. P(Общ) = P(орел) + P(решка) = 0,5 + 0,5 = 1.\n",
    "Но, даже при незначительном числе экспериментов (когда частота выпадения будет немного \"перекошена\",\n",
    "сумма вероятностей будет = 1)\"\"\"\n",
    "\n",
    "W_orel = 0\n",
    "W_reshka = 0\n",
    "for i in range(0, 50000):\n",
    "    x = np.random.uniform(0, 10)\n",
    "    if x<5:\n",
    "        W_orel += 1\n",
    "    else:\n",
    "        W_reshka += 1\n",
    "print(W_orel/50000, W_reshka/50000)\n",
    "P_sum = W_orel/50000 + W_reshka/50000\n",
    "print(P_sum)"
   ]
  },
  {
   "cell_type": "markdown",
   "metadata": {},
   "source": [
    "На конфетной фабрике собирают подарки к Новому Году из n=10 видов конфет. Берут примерно по M=100 г конфет каждого вида (но точно не получается, а выходит плюс-минус m, напр. 95...105 г). Т.е. выйдет вес всего подарка 1 кг плюс-минус накопленная погрешность. Всего собирают N=10000 подарков. Надо построить гистограмму распределения веса подарка. Ну и при желании- поиграться с параметрами N,n,M,m."
   ]
  },
  {
   "cell_type": "code",
   "execution_count": 4,
   "metadata": {},
   "outputs": [],
   "source": [
    "%matplotlib inline\n",
    "import matplotlib.pyplot as plt\n",
    "import matplotlib.mlab as mlab"
   ]
  },
  {
   "cell_type": "code",
   "execution_count": 5,
   "metadata": {},
   "outputs": [],
   "source": [
    "n = 10 #количество видов конфет в кждом наборе\n",
    "m = 0.25 #погрешность при \"заборе\" 100 г конфет\n",
    "#общая формула для вычисления веса 1 набора конфет из 10 видов, каждого взято по 100 г с погрешностью\n",
    "M = 100 + m * np.random.randn(n) \n",
    "N = 10000 #количество собираемых наборов\n",
    "\n",
    "N_sum = [] #сохраняем веса готовых наборов\n",
    "for i in range(N):\n",
    "    N_i = 100 + m * np.random.randn(10) #текущий набор конфет\n",
    "#    print(sum(N_i))\n",
    "    N_sum += [sum(N_i)]\n",
    "#print(N_sum)"
   ]
  },
  {
   "cell_type": "code",
   "execution_count": 6,
   "metadata": {},
   "outputs": [
    {
     "name": "stderr",
     "output_type": "stream",
     "text": [
      "C:\\ProgramData\\Anaconda3\\lib\\site-packages\\matplotlib\\axes\\_axes.py:6521: MatplotlibDeprecationWarning: \n",
      "The 'normed' kwarg was deprecated in Matplotlib 2.1 and will be removed in 3.1. Use 'density' instead.\n",
      "  alternative=\"'density'\", removal=\"3.1\")\n"
     ]
    },
    {
     "data": {
      "image/png": "[encoded data removed]",
      "text/plain": [
       "<Figure size 432x288 with 1 Axes>"
      ]
     },
     "metadata": {
      "needs_background": "light"
     },
     "output_type": "display_data"
    }
   ],
   "source": [
    "num_bins = 20\n",
    "n, bins, patches = plt.hist(N_sum, num_bins, normed=1, facecolor='blue', alpha=0.5)\n",
    "#y = mlab.normpdf(bins, 100, 0.5)\n",
    "#plt.plot(bins, y, 'r--')\n",
    "plt.xlabel('x')\n",
    "plt.ylabel('Probability')\n",
    "plt.title('Histogram: M=100, N=10000')\n",
    "plt.subplots_adjust(left=0.15)\n",
    "plt.show()"
   ]
  },
  {
   "cell_type": "markdown",
   "metadata": {},
   "source": [
    "### 3.\n",
    "1) Дополните код Монте-Карло последовательности независимых испытаний расчетом соответствующих вероятностей (через биномиальное распределение) и сравните результаты.<p>\n",
    "2) Повторите расчеты, взяв другие значения n и k.\n"
   ]
  },
  {
   "cell_type": "code",
   "execution_count": 7,
   "metadata": {},
   "outputs": [],
   "source": [
    "import itertools\n",
    "import math"
   ]
  },
  {
   "cell_type": "code",
   "execution_count": 8,
   "metadata": {},
   "outputs": [],
   "source": [
    "# n - количество испытаний\n",
    "# k - количество успехов за n испытаний\n",
    "# sample_size - количество бросков в одном испытании\n",
    "def Monte_Carlo(n, k, sample_size):\n",
    "    s = []\n",
    "    for i in range(n):\n",
    "        s.append(np.random.randint(0, 2, sample_size))\n",
    "    s = sum(s)\n",
    "    x = len(list(filter(lambda x: x == k, s)))\n",
    "    return x/sample_size"
   ]
  },
  {
   "cell_type": "code",
   "execution_count": 9,
   "metadata": {},
   "outputs": [],
   "source": [
    "def with_bin_coef(n, k):\n",
    "    C = math.factorial(n)/(math.factorial(k)*math.factorial(n-k))\n",
    "    P = C*0.5**n\n",
    "    return P"
   ]
  },
  {
   "cell_type": "code",
   "execution_count": 10,
   "metadata": {},
   "outputs": [
    {
     "name": "stdout",
     "output_type": "stream",
     "text": [
      "0.3091 0.3125\n"
     ]
    }
   ],
   "source": [
    "print(Monte_Carlo(5, 2, 10000), with_bin_coef(5, 2))"
   ]
  },
  {
   "cell_type": "code",
   "execution_count": 11,
   "metadata": {},
   "outputs": [
    {
     "name": "stdout",
     "output_type": "stream",
     "text": [
      "0.2736 0.2734375\n"
     ]
    }
   ],
   "source": [
    "print(Monte_Carlo(7, 4, 10000), with_bin_coef(7, 4))"
   ]
  },
  {
   "cell_type": "markdown",
   "metadata": {},
   "source": [
    "### 4. \n",
    "Повторите расчеты (размещений и перестановок), взяв другие значения n и k."
   ]
  },
  {
   "cell_type": "code",
   "execution_count": 12,
   "metadata": {},
   "outputs": [],
   "source": [
    "n = 5\n",
    "k = 3"
   ]
  },
  {
   "cell_type": "code",
   "execution_count": 13,
   "metadata": {},
   "outputs": [],
   "source": [
    "digits_as_str = ''.join(map(str, range(n)))"
   ]
  },
  {
   "cell_type": "code",
   "execution_count": 14,
   "metadata": {},
   "outputs": [
    {
     "name": "stdout",
     "output_type": "stream",
     "text": [
      "012\n",
      "013\n",
      "014\n",
      "021\n",
      "023\n",
      "024\n",
      "031\n",
      "032\n",
      "034\n",
      "041\n",
      "042\n",
      "043\n",
      "102\n",
      "103\n",
      "104\n",
      "120\n",
      "123\n",
      "124\n",
      "130\n",
      "132\n",
      "134\n",
      "140\n",
      "142\n",
      "143\n",
      "201\n",
      "203\n",
      "204\n",
      "210\n",
      "213\n",
      "214\n",
      "230\n",
      "231\n",
      "234\n",
      "240\n",
      "241\n",
      "243\n",
      "301\n",
      "302\n",
      "304\n",
      "310\n",
      "312\n",
      "314\n",
      "320\n",
      "321\n",
      "324\n",
      "340\n",
      "341\n",
      "342\n",
      "401\n",
      "402\n",
      "403\n",
      "410\n",
      "412\n",
      "413\n",
      "420\n",
      "421\n",
      "423\n",
      "430\n",
      "431\n",
      "432\n"
     ]
    }
   ],
   "source": [
    "for p in itertools.permutations(digits_as_str, k):\n",
    "    print(''.join(str(x) for x in p))"
   ]
  },
  {
   "cell_type": "code",
   "execution_count": 15,
   "metadata": {},
   "outputs": [
    {
     "name": "stdout",
     "output_type": "stream",
     "text": [
      "012\n",
      "013\n",
      "014\n",
      "023\n",
      "024\n",
      "034\n",
      "123\n",
      "124\n",
      "134\n",
      "234\n"
     ]
    }
   ],
   "source": [
    "for p in itertools.combinations(digits_as_str,k):\n",
    "    print(''.join(p))"
   ]
  },
  {
   "cell_type": "markdown",
   "metadata": {},
   "source": [
    "### 5. \n",
    "Дополните код расчетом коэффициента корреляции x и y по формуле"
   ]
  },
  {
   "cell_type": "code",
   "execution_count": 16,
   "metadata": {},
   "outputs": [
    {
     "name": "stdout",
     "output_type": "stream",
     "text": [
      "0.7034477449540087 0.14844658168690997\n",
      "0.7034477449540084 0.14844658168691052\n"
     ]
    },
    {
     "name": "stderr",
     "output_type": "stream",
     "text": [
      "C:\\ProgramData\\Anaconda3\\lib\\site-packages\\ipykernel_launcher.py:14: FutureWarning: `rcond` parameter will change to the default of machine precision times ``max(M, N)`` where M and N are the input matrix dimensions.\n",
      "To use the future default and silence this warning we advise to pass `rcond=None`, to keep using the old, explicitly pass `rcond=-1`.\n",
      "  \n"
     ]
    },
    {
     "data": {
      "image/png": "[encoded data removed]",
      "text/plain": [
       "<Figure size 432x288 with 1 Axes>"
      ]
     },
     "metadata": {
      "needs_background": "light"
     },
     "output_type": "display_data"
    }
   ],
   "source": [
    "n = 100\n",
    "r = 0.7\n",
    "x = np.random.rand(n)\n",
    "y = r*x + (1 - r)*np.random.rand(n)\n",
    "plt.plot(x, y, 'o')\n",
    "plt.xlabel('x')\n",
    "plt.ylabel('y')\n",
    "plt.grid(True)\n",
    "\n",
    "a = (np.sum(x)*np.sum(y) - n*np.sum(x*y))/(np.sum(x)*np.sum(x) - n*np.sum(x*x))\n",
    "b = (np.sum(y) - a*np.sum(x))/n\n",
    "\n",
    "A = np.vstack([x, np.ones(len(x))]).T\n",
    "a1, b1 = np.linalg.lstsq(A, y)[0]\n",
    "print(a, b)\n",
    "print(a1, b1)\n",
    "plt.plot([0, 1], [b, a + b])\n",
    "plt.show()"
   ]
  },
  {
   "cell_type": "code",
   "execution_count": 17,
   "metadata": {},
   "outputs": [
    {
     "name": "stdout",
     "output_type": "stream",
     "text": [
      "0.9108745441037109\n"
     ]
    },
    {
     "data": {
      "text/plain": [
       "array([[1.        , 0.91087454],\n",
       "       [0.91087454, 1.        ]])"
      ]
     },
     "execution_count": 17,
     "metadata": {},
     "output_type": "execute_result"
    }
   ],
   "source": [
    "#for i in range(n):\n",
    "x_m = sum(x)/n\n",
    "y_m = sum(y)/n\n",
    "\n",
    "R = np.matmul((x - x_m),(y - y_m))/np.sqrt(np.matmul((x - x_m),(x - x_m))*np.matmul((y - y_m),(y - y_m)))\n",
    "print(R)\n",
    "\n",
    "# Проверка\n",
    "np.corrcoef(x, y)"
   ]
  }
 ],
 "metadata": {
  "kernelspec": {
   "display_name": "Python 3",
   "language": "python",
   "name": "python3"
  },
  "language_info": {
   "codemirror_mode": {
    "name": "ipython",
    "version": 3
   },
   "file_extension": ".py",
   "mimetype": "text/x-python",
   "name": "python",
   "nbconvert_exporter": "python",
   "pygments_lexer": "ipython3",
   "version": "3.7.1"
  }
 },
 "nbformat": 4,
 "nbformat_minor": 2
}
